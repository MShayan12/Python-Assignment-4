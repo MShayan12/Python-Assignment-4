{
 "cells": [
  {
   "cell_type": "code",
   "execution_count": 4,
   "id": "52ce2401",
   "metadata": {},
   "outputs": [
    {
     "name": "stdout",
     "output_type": "stream",
     "text": [
      "Key is already exist in the dictionary\n",
      "Key is not exist in the dictionary\n"
     ]
    }
   ],
   "source": [
    "# 6. Write a Python script to check if a given key already exists in a\n",
    "# dictionary\n",
    "\n",
    "a = {1:'a',2:'b',3:'c',4:'d',5:'e'};\n",
    "def is_key_present(x):\n",
    "    if x in a:\n",
    "        print(\"Key is already exist in the dictionary\");\n",
    "    else:\n",
    "        print(\"Key is not exist in the dictionary\");\n",
    "is_key_present(5);\n",
    "is_key_present(9);"
   ]
  },
  {
   "cell_type": "code",
   "execution_count": null,
   "id": "07ef9ea8",
   "metadata": {},
   "outputs": [],
   "source": []
  }
 ],
 "metadata": {
  "kernelspec": {
   "display_name": "Python 3",
   "language": "python",
   "name": "python3"
  },
  "language_info": {
   "codemirror_mode": {
    "name": "ipython",
    "version": 3
   },
   "file_extension": ".py",
   "mimetype": "text/x-python",
   "name": "python",
   "nbconvert_exporter": "python",
   "pygments_lexer": "ipython3",
   "version": "3.8.8"
  }
 },
 "nbformat": 4,
 "nbformat_minor": 5
}
