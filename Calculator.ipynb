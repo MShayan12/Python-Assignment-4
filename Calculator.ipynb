{
 "cells": [
  {
   "cell_type": "code",
   "execution_count": 4,
   "id": "d287d033",
   "metadata": {},
   "outputs": [
    {
     "name": "stdout",
     "output_type": "stream",
     "text": [
      "PLease Select Operation\n",
      "1.Add\n",
      "2.Subtract\n",
      "3.Multiply\n",
      "4.Divide\n",
      "Enter Choice (1/2/3/4)4\n",
      "Enter First Number: 4\n",
      "Enter Second Number: 8\n",
      "4.0 / 8.0 = 0.5\n"
     ]
    }
   ],
   "source": [
    "# 1. Make a calculator using Python with addition , subtraction ,\n",
    "# multiplication ,division and power.\n",
    "\n",
    "def add(a,b):\n",
    "    return a + b\n",
    "def subtract(a,b):\n",
    "    return a - b\n",
    "def multiply(a,b):\n",
    "    return a * b\n",
    "def divide(a,b):\n",
    "    return a / b\n",
    "print(\"PLease Select Operation\");\n",
    "print(\"1.Add\");\n",
    "print(\"2.Subtract\");\n",
    "print(\"3.Multiply\");\n",
    "print(\"4.Divide\");\n",
    "\n",
    "choice = input(\"Enter Choice (1/2/3/4)\")\n",
    "if choice in ('1','2','3','4'):\n",
    "    num1 = float(input(\"Enter First Number: \"));\n",
    "    num2 = float(input(\"Enter Second Number: \"));\n",
    "    if choice == '1':\n",
    "        print(num1, '+', num2, '=', add(num1, num2))\n",
    "    elif choice == '2':\n",
    "        print(num1, '-', num2, '=', subtract(num1, num2))\n",
    "    elif choice == '3':\n",
    "        print(num1, '*', num2, '=', multiply(num1, num2))\n",
    "    elif choice == '4':\n",
    "        print(num1, '/', num2, '=', divide(num1, num2))\n",
    "    else:\n",
    "        print(\"Invalid Input\");"
   ]
  },
  {
   "cell_type": "code",
   "execution_count": null,
   "id": "5aa442d0",
   "metadata": {},
   "outputs": [],
   "source": []
  }
 ],
 "metadata": {
  "kernelspec": {
   "display_name": "Python 3",
   "language": "python",
   "name": "python3"
  },
  "language_info": {
   "codemirror_mode": {
    "name": "ipython",
    "version": 3
   },
   "file_extension": ".py",
   "mimetype": "text/x-python",
   "name": "python",
   "nbconvert_exporter": "python",
   "pygments_lexer": "ipython3",
   "version": "3.8.8"
  }
 },
 "nbformat": 4,
 "nbformat_minor": 5
}
